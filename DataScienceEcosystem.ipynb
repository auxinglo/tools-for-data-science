{
 "cells": [
  {
   "cell_type": "markdown",
   "id": "a1bd518e-ce81-4a76-a7a9-5a9273d1e40d",
   "metadata": {},
   "source": [
    "# Data Science Tools and Ecosystem"
   ]
  },
  {
   "cell_type": "markdown",
   "id": "63013326-4eac-49e3-a396-21b1980a2204",
   "metadata": {},
   "source": [
    "In this note book, Data Science Tools and Ecosystem are summarized."
   ]
  },
  {
   "cell_type": "markdown",
   "id": "f55043af-2174-488e-b77a-024acf9d4d17",
   "metadata": {},
   "source": [
    "**Objectives:**\n",
    " - List popular languages for Data Science\n",
    " - Commonly used libraries\n",
    " - Data Science Tools"
   ]
  },
  {
   "cell_type": "markdown",
   "id": "5b100912-8f17-45e5-93b9-382d14b8a019",
   "metadata": {},
   "source": [
    "Some of the popular languages that Data Scientists use are:\n",
    "1. Python\n",
    "2. R\n",
    "3. SQL"
   ]
  },
  {
   "cell_type": "markdown",
   "id": "d2e764e2-641f-4c7a-8791-5fb25a93ff6b",
   "metadata": {},
   "source": [
    "Some of the commonly used libraries include:\n",
    "1. pandas\n",
    "2. Numpy\n",
    "3. Matplotlib"
   ]
  },
  {
   "cell_type": "markdown",
   "id": "2ba52662-66a6-4158-ab00-a3480c808d88",
   "metadata": {},
   "source": [
    "| Data Science Tools|  \n",
    "|------------------|\n",
    "|RStudio           |\n",
    "|JupyterNotebook   |\n",
    "|Spyder            |"
   ]
  },
  {
   "cell_type": "markdown",
   "id": "f119170f-711c-442d-b255-24b9143be7a1",
   "metadata": {},
   "source": [
    "### Below are a few examples of evaluating arithmetic expressions in Python"
   ]
  },
  {
   "cell_type": "code",
   "execution_count": 4,
   "id": "9567bacb-8925-451d-9b3a-858ce4c39d83",
   "metadata": {},
   "outputs": [
    {
     "data": {
      "text/plain": [
       "17"
      ]
     },
     "execution_count": 4,
     "metadata": {},
     "output_type": "execute_result"
    }
   ],
   "source": [
    "# this is a simple arithmetic expression to multiply then add integers\n",
    "(3*4)+5"
   ]
  },
  {
   "cell_type": "code",
   "execution_count": 6,
   "id": "eb34aa39-7cda-4943-b52b-2d1a336155d4",
   "metadata": {},
   "outputs": [
    {
     "data": {
      "text/plain": [
       "3.3333333333333335"
      ]
     },
     "execution_count": 6,
     "metadata": {},
     "output_type": "execute_result"
    }
   ],
   "source": [
    "#This will convert 200 minutes to hours by dividing by 60\n",
    "200/60"
   ]
  },
  {
   "cell_type": "markdown",
   "id": "f280c3ef-8de8-4874-8ba8-aa849f23e957",
   "metadata": {},
   "source": [
    "## Author\n",
    "Fredrick Amenuglo\n"
   ]
  },
  {
   "cell_type": "code",
   "execution_count": null,
   "id": "44458503-32d3-459d-8e18-f9910d2648ef",
   "metadata": {},
   "outputs": [],
   "source": []
  }
 ],
 "metadata": {
  "kernelspec": {
   "display_name": "Python",
   "language": "python",
   "name": "conda-env-python-py"
  },
  "language_info": {
   "codemirror_mode": {
    "name": "ipython",
    "version": 3
   },
   "file_extension": ".py",
   "mimetype": "text/x-python",
   "name": "python",
   "nbconvert_exporter": "python",
   "pygments_lexer": "ipython3",
   "version": "3.7.12"
  }
 },
 "nbformat": 4,
 "nbformat_minor": 5
}
